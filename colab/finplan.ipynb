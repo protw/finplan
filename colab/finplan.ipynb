{
    "nbformat": 4,
    "nbformat_minor": 0,
    "metadata": {
        "colab": {
            "provenance": []
        },
        "kernelspec": {
            "name": "python3",
            "display_name": "Python 3"
        },
        "language_info": {
            "name": "python"
        }
    },
    "cells": [
        {
            "cell_type": "markdown",
            "source": [
                "# Фінансовий план грантового проєкту"
            ],
            "metadata": {
                "id": "jgyoWhTy87NO"
            }
        },
        {
            "cell_type": "markdown",
            "source": [
                "## Перед початком роботи:\n",
                "\n",
                "1. ознайомтесь зі [стислою документацією застосунку](https://github.com/protw/finplan) та [короткою інструкцією з підготовки фінплану](https://drive.google.com/file/d/1v-u1tpZBFsTDaco3bXuTO1yN5YrfGzCP/view?pli=1);\n",
                "2. упевніться, що маєте доступ до теки на Гугл Диску `230904 finplan/` (або, якщо маєте доступ до теки `UNITEAM`, зробіть те саме з нею);\n",
                "3. зробіть ярлик теки `230904 finplan/` у свою теку `Мій диск` (або `My Drive`); якщо ви робили цей ярлик колись, то цю операцію можна пропустити.\n",
                "\n",
                "## Порядок роботи\n",
                "\n",
                "1. заповніть вашу форму план-графіка завдань (шаблон можна скачати [тут](https://github.com/protw/finplan/blob/master/data/Task%20schedule%20(template).xlsx). Ім'я файлу може бути довільним, розширення - `.xlsx`;\n",
                "2. розмістіть заповнену форму у теці `230904 finplan/finplandata/`; **переконайтесь, що в теці це єдиний xlsx-файл**; тримайте теку [finplandata](https://drive.google.com/drive/folders/1XyFHw9Olp_NNoNR4ZTFqmklpkWG06RT_) відкритою в окремій вкладці бравзера;\n",
                "3. через Гугл Диск у теці `_DOCS/FIN/230904 FINPLAN/` відкрийте (подвійним кліком) блокнот (_Jupyter Notebook_) з назвою `finplan.ipynb`; якщо ви користуєтесь _Google Colab_ вперше, то, можливо, вам прийдеться натиснути додаткову кнопку (по центру вгорі) типу \"Відкрити з допомогою ...\" і там обрати _Google Colab_;\n",
                "4. запустіть цей блокнот через меню `Середовише виконання` / `Виконати всі` або з клавіатури - `CTRL+F9`;\n",
                "5. у разі зазначення помилок виправте їх і запустіть знов (п. 4), до отримання результату;\n",
                "6. результуючий файл матиме таке ж ім'я як і вхідний, але з префіксом `_finplan`, і розташований поруч із вхідним файлом;\n",
                "7. ви можете змінити дані у вхідному файлі даних (див. п. 2) і перерахувати результат; **у такому разі перед повторним запуском видаліть результуючий файл з префіксом `_finplan`** (див. п. 6);\n",
                "8. зробіть копію результуючого файлу змінивши префікс на `_finplan_formatted` і відформатуйте його (краще на локальному комп'ютері); не забудьте перенести отримані результати в роб. теку свого проєкту."
            ],
            "metadata": {
                "id": "JL4lHERvcWb9"
            }
        },
        {
            "cell_type": "code",
            "source": [
                "#@title ## Конфігурація робочих директорій\n",
                "\n",
                "gdrive = '/content/drive'\n",
                "shdrive = '/MyDrive/' # MyDrive, Shareddrives\n",
                "calc_dir = 'UNITEAM/_DOCS/FIN/230904 FINPLAN/' # @param ['230904 FINPLAN/', 'UNITEAM/_DOCS/FIN/230904 FINPLAN/']\n",
                "calc_dir = gdrive + shdrive + calc_dir\n",
                "\n",
                "# монтування Гугл Диску\n",
                "from google.colab import drive\n",
                "drive.mount(gdrive)\n",
                "\n",
                "# надання доступу до фолдера коду 'code_dir'\n",
                "code_dir = calc_dir + 'finplan'\n",
                "import sys\n",
                "sys.path.insert(0, code_dir)\n",
                "\n",
                "!pip install XlsxWriter > /dev/null"
            ],
            "metadata": {
                "id": "L_7u6-03jLzl",
                "colab": {
                    "base_uri": "https://localhost:8080/"
                },
                "executionInfo": {
                    "status": "ok",
                    "timestamp": 1708977919557,
                    "user_tz": -120,
                    "elapsed": 10172,
                    "user": {
                        "displayName": "Євген Бовсуновський",
                        "userId": "07845841247425382106"
                    }
                },
                "outputId": "ab4ba2ca-18bc-4a90-b4c3-6c71d6d7f53a"
            },
            "execution_count": null,
            "outputs": [
                {
                    "output_type": "stream",
                    "name": "stdout",
                    "text": [
                        "Drive already mounted at /content/drive; to attempt to forcibly remount, call drive.mount(\"/content/drive\", force_remount=True).\n"
                    ]
                }
            ]
        },
        {
            "cell_type": "code",
            "source": [
                "#@title ## Обробка XLSX таблиці\n",
                "from fin_plan4 import finplan_main\n",
                "\n",
                "data_dir = calc_dir + 'finplandata'\n",
                "\n",
                "finplan_main(data_dir)"
            ],
            "metadata": {
                "id": "1d0devpkcQE2",
                "colab": {
                    "base_uri": "https://localhost:8080/"
                },
                "executionInfo": {
                    "status": "ok",
                    "timestamp": 1708977923515,
                    "user_tz": -120,
                    "elapsed": 3969,
                    "user": {
                        "displayName": "Євген Бовсуновський",
                        "userId": "07845841247425382106"
                    }
                },
                "outputId": "05706b53-7a6f-40b3-ae1c-cbb47cfeedfb",
                "cellView": "form"
            },
            "execution_count": null,
            "outputs": [
                {
                    "output_type": "stream",
                    "name": "stdout",
                    "text": [
                        " == БЛОК ПОЧАТКОВИХ ПАРАМЕТРІВ ПРОЄКТУ == \n",
                        "ARGV: ['/usr/local/lib/python3.10/dist-packages/colab_kernel_launcher.py', '-f', '/root/.local/share/jupyter/runtime/kernel-87b8d441-1e4a-424b-a03f-e52667163d58.json']\n",
                        " ==  data_file:  /content/drive/MyDrive/UNITEAM/_DOCS/FIN/230904 FINPLAN/finplandata/240226 More4Nature Task schedule-2.xlsx\n",
                        " == ЗЧИТУЄМО ДАНІ СТОСОВНО ПРОЄКТУ == \n",
                        " == ПІДГОТУВАТИ ДОПОМІЖНІ ДАНІ == \n",
                        "Фінплан проєкту `More4Nature`\n",
                        " == ВАЛІДАЦІЯ ВХІДНИХ ДАНИХ == \n",
                        " == СТВОРЮЄМО ДВІ ДОВГИХ ТАБЛИЦІ ДЛЯ ПРОПОРЦІЙНИХ І КЕШ-ЗАВДАНЬ == \n",
                        " == ЗАГАЛЬНІ ТРУДОВИТРАТИ І ВИПЛАТИ == \n",
                        " == ЩОМІСЯЧНІ ТРУДОВИТРАТИ І ВИПЛАТИ == \n",
                        " == ЗАГАЛЬНІ ЩОМІСЯЧНІ ПОСТАТЕЙНІ ВИТРАТИ == \n",
                        " == Створення таблиці дат подій для розміщення у Гугл Календарі == \n",
                        "Всі дані збережено у файлі `/content/drive/MyDrive/UNITEAM/_DOCS/FIN/230904 FINPLAN/finplandata/240226 More4Nature Task schedule-2_finplan.xlsx`!\n",
                        "DONE!\n"
                    ]
                }
            ]
        }
    ]
}